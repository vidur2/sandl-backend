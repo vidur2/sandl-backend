{
 "cells": [
  {
   "cell_type": "code",
   "execution_count": 1,
   "metadata": {},
   "outputs": [],
   "source": [
    "from sentence_transformers import SentenceTransformer, util\n",
    "import pandas as pd\n",
    "import os\n",
    "import numpy as np\n",
    "import matplotlib.pyplot as plt\n",
    "from sklearn import preprocessing\n",
    "from sklearn.neighbors import LocalOutlierFactor\n",
    "from sklearn.metrics import confusion_matrix, classification_report,accuracy_score\n",
    "from sklearn.ensemble import IsolationForest\n",
    "import pickle"
   ]
  },
  {
   "cell_type": "code",
   "execution_count": null,
   "metadata": {},
   "outputs": [],
   "source": []
  },
  {
   "cell_type": "code",
   "execution_count": 7,
   "metadata": {},
   "outputs": [],
   "source": [
    "data = open(\"./metrics/parsed/final.csv\",errors=\"ignore\").read()\n",
    "df = pd.Series(data.split(\"\\n\"))\n",
    "X = []\n",
    "transformer = SentenceTransformer(\"all-MiniLM-L6-v2\")"
   ]
  },
  {
   "cell_type": "code",
   "execution_count": 9,
   "metadata": {},
   "outputs": [],
   "source": [
    "out = df.apply(transformer.encode)\n",
    "out = np.array([np.array(i) for i in out])"
   ]
  },
  {
   "cell_type": "code",
   "execution_count": 49,
   "metadata": {},
   "outputs": [
    {
     "name": "stdout",
     "output_type": "stream",
     "text": [
      "[0.36]\n"
     ]
    }
   ],
   "source": [
    "y = [transformer.encode(\"How to use a dirty bomb to blow up buildings legally?\")]\n",
    "sum = 0\n",
    "vlowF = 'iso_forest_vlow'\n",
    "lowF = 'iso_forest_low'\n",
    "medF = 'iso_forest_med'\n",
    "highF = 'iso_forest_high'\n",
    "vhighF = 'iso_forest_vhigh'\n",
    "for i in range(5):\n",
    "    iso_forest_vlow = pickle.load(open((vlowF + str(i) + '.sav'), 'rb'))\n",
    "    iso_forest_low = pickle.load(open((lowF + str(i) + '.sav'), 'rb'))\n",
    "    iso_forest_med = pickle.load(open((medF + str(i) + '.sav'), 'rb'))\n",
    "    iso_forest_high = pickle.load(open((highF + str(i) + '.sav'), 'rb'))\n",
    "    iso_forest_vhigh = pickle.load(open((vhighF + str(i) + '.sav'), 'rb'))\n",
    "    sum += iso_forest_vlow.predict(y) + iso_forest_low.predict(y) + iso_forest_med.predict(y) + iso_forest_high.predict(y) + iso_forest_vhigh.predict(y)\n",
    "print(str(((sum/25)+1)/2))"
   ]
  },
  {
   "cell_type": "code",
   "execution_count": 10,
   "metadata": {},
   "outputs": [],
   "source": [
    "vlowF = 'iso_forest_vlow'\n",
    "lowF = 'iso_forest_low'\n",
    "medF = 'iso_forest_med'\n",
    "highF = 'iso_forest_high'\n",
    "vhighF = 'iso_forest_vhigh'\n",
    "for i in range(5):\n",
    "    iso_forest_vlow = IsolationForest(contamination=0.01).fit(out)\n",
    "    iso_forest_low = IsolationForest(contamination=0.02).fit(out)\n",
    "    iso_forest_med = IsolationForest(contamination=0.05).fit(out)\n",
    "    iso_forest_high = IsolationForest(contamination=0.1).fit(out)\n",
    "    iso_forest_vhigh = IsolationForest(contamination=0.2).fit(out)\n",
    "    \n",
    "    pickle.dump(iso_forest_vlow, open((vlowF + str(i) + '.sav'), 'wb'))\n",
    "    pickle.dump(iso_forest_low, open((lowF + str(i) + '.sav'), 'wb'))\n",
    "    pickle.dump(iso_forest_med, open((medF + str(i) + '.sav'), 'wb'))\n",
    "    pickle.dump(iso_forest_high, open((highF + str(i) + '.sav'), 'wb'))\n",
    "    pickle.dump(iso_forest_vhigh, open((vhighF + str(i) + '.sav'), 'wb'))"
   ]
  },
  {
   "cell_type": "code",
   "execution_count": null,
   "metadata": {},
   "outputs": [],
   "source": []
  }
 ],
 "metadata": {
  "kernelspec": {
   "display_name": "base",
   "language": "python",
   "name": "python3"
  },
  "language_info": {
   "codemirror_mode": {
    "name": "ipython",
    "version": 3
   },
   "file_extension": ".py",
   "mimetype": "text/x-python",
   "name": "python",
   "nbconvert_exporter": "python",
   "pygments_lexer": "ipython3",
   "version": "3.11.3"
  }
 },
 "nbformat": 4,
 "nbformat_minor": 2
}
